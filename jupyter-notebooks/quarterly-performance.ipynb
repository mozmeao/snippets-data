{
 "cells": [
  {
   "cell_type": "code",
   "execution_count": null,
   "metadata": {
    "collapsed": true
   },
   "outputs": [],
   "source": [
    "import calendar\n",
    "from datetime import date, timedelta\n",
    "from django.db.models import Sum, Q\n",
    "from django_pandas.io import read_frame\n",
    "from IPython.display import Markdown as md\n",
    "\n",
    "end_date = date.today().replace(day=1) - timedelta(days=1) # end of last month\n",
    "begin_date = end_date.replace(day=1, month=end_date.month - 2) # 1st day of quarter\n",
    "q = {m: 'Q1' for m in [1, 2, 3]}\n",
    "q.update({m: 'Q2' for m in [4, 5, 6]})\n",
    "q.update({m: 'Q3' for m in [7, 8, 9]})\n",
    "q.update({m: 'Q4' for m in [10, 11, 12]})\n",
    "md(f'# {q[begin_date.month]} Performance')"
   ]
  },
  {
   "cell_type": "code",
   "execution_count": null,
   "metadata": {},
   "outputs": [],
   "source": [
    "def add_click_block_rate(df):\n",
    "    df['click rate'] = 100. * df['clicks'] / df['impressions']\n",
    "    df['block rate'] = 100. * df['blocks'] / df['impressions']"
   ]
  },
  {
   "cell_type": "code",
   "execution_count": null,
   "metadata": {},
   "outputs": [],
   "source": [
    "format_dict = {k: '{:,.0f}' for k in ('blocks', 'clicks', 'impressions')}\n",
    "format_dict.update({k: '{:.2f}%' for k in ('block rate', 'click rate')})"
   ]
  },
  {
   "cell_type": "markdown",
   "metadata": {},
   "source": [
    "## Categories"
   ]
  },
  {
   "cell_type": "code",
   "execution_count": null,
   "metadata": {},
   "outputs": [],
   "source": [
    "FXA_PAID_BEGIN_DATE = date(2019, 12, 9)\n",
    "if end_date < FXA_PAID_BEGIN_DATE: \n",
    "    category_queryset = Category.objects.exclude(name='FxA-Paid')\n",
    "else:\n",
    "    category_queryset = Category.objects.all()\n",
    "\n",
    "date_filter = Q(snippets__jobs__dailyjobmetrics__date__gte=begin_date,\n",
    "                snippets__jobs__dailyjobmetrics__date__lte=end_date)\n",
    "\n",
    "categories = read_frame(\n",
    "    category_queryset.annotate(\n",
    "        clicks=Sum('snippets__jobs__dailyjobmetrics__clicks', filter=date_filter),\n",
    "        blocks=Sum('snippets__jobs__dailyjobmetrics__blocks', filter=date_filter),\n",
    "        impressions=Sum('snippets__jobs__dailyjobmetrics__impressions', filter=date_filter)))\n",
    "\n",
    "add_click_block_rate(categories)\n",
    "columns = ['name', 'impressions', 'clicks', 'click rate', 'blocks', 'block rate']\n",
    "categories[columns].style.format(format_dict).hide_index()"
   ]
  },
  {
   "cell_type": "markdown",
   "metadata": {},
   "source": [
    "## Channels"
   ]
  },
  {
   "cell_type": "code",
   "execution_count": null,
   "metadata": {},
   "outputs": [],
   "source": [
    "channels = read_frame(\n",
    "    DailyChannelMetrics.objects.filter(\n",
    "        date__gte=begin_date, date__lte=end_date)).groupby('channel').sum()\n",
    "add_click_block_rate(channels)\n",
    "\n",
    "columns.remove('name')\n",
    "channels.sort_values('impressions', ascending=False)[columns].style.format(format_dict)"
   ]
  },
  {
   "cell_type": "markdown",
   "metadata": {},
   "source": [
    "## Countries"
   ]
  },
  {
   "cell_type": "code",
   "execution_count": null,
   "metadata": {},
   "outputs": [],
   "source": [
    "countries = read_frame(\n",
    "    DailyCountryMetrics.objects.filter(\n",
    "        date__gte=begin_date, date__lte=end_date)).groupby('country').sum()\n",
    "add_click_block_rate(countries)\n",
    "countries.nlargest(10, 'impressions')[columns].style.format(format_dict)"
   ]
  }
 ],
 "metadata": {
  "kernelspec": {
   "display_name": "Django Shell-Plus",
   "language": "python",
   "name": "django_extensions"
  },
  "language_info": {
   "codemirror_mode": {
    "name": "ipython",
    "version": 3
   },
   "file_extension": ".py",
   "mimetype": "text/x-python",
   "name": "python",
   "nbconvert_exporter": "python",
   "pygments_lexer": "ipython3",
   "version": "3.7.6"
  }
 },
 "nbformat": 4,
 "nbformat_minor": 2
}
