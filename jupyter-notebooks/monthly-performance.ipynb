{
 "cells": [
  {
   "cell_type": "code",
   "execution_count": null,
   "metadata": {
    "autoscroll": false,
    "ein.hycell": false,
    "ein.tags": "worksheet-0",
    "slideshow": {
     "slide_type": "-"
    }
   },
   "outputs": [],
   "source": [
    "import calendar\n",
    "from datetime import date, timedelta\n",
    "from django.db.models import Sum, Q\n",
    "from django_pandas.io import read_frame\n",
    "from IPython.display import Markdown as md\n",
    "\n",
    "end_date = date.today().replace(day=1) - timedelta(days=1) # end of last month\n",
    "begin_date = end_date.replace(day=1)\n",
    "month_name = calendar.month_name[end_date.month]\n",
    "md(f'# {month_name} Performance')"
   ]
  },
  {
   "cell_type": "code",
   "execution_count": null,
   "metadata": {
    "autoscroll": false,
    "ein.hycell": false,
    "ein.tags": "worksheet-0",
    "slideshow": {
     "slide_type": "-"
    }
   },
   "outputs": [],
   "source": [
    "def add_click_block_rate(df):\n",
    "    df['click rate'] = 100. * df['clicks'] / df['impressions']\n",
    "    df['block rate'] = 100. * df['blocks'] / df['impressions']"
   ]
  },
  {
   "cell_type": "code",
   "execution_count": null,
   "metadata": {
    "autoscroll": false,
    "ein.hycell": false,
    "ein.tags": "worksheet-0",
    "slideshow": {
     "slide_type": "-"
    }
   },
   "outputs": [],
   "source": [
    "format_dict = {k: '{:,.0f}' for k in ('blocks', 'clicks', 'impressions')}\n",
    "format_dict.update({k: '{:.2f}%' for k in ('block rate', 'click rate')})"
   ]
  },
  {
   "cell_type": "markdown",
   "metadata": {
    "ein.tags": "worksheet-0",
    "slideshow": {
     "slide_type": "-"
    }
   },
   "source": [
    "## Categories"
   ]
  },
  {
   "cell_type": "code",
   "execution_count": null,
   "metadata": {
    "autoscroll": false,
    "ein.hycell": false,
    "ein.tags": "worksheet-0",
    "slideshow": {
     "slide_type": "-"
    }
   },
   "outputs": [],
   "source": [
    "FXA_PAID_BEGIN_DATE = date(2019, 12, 9)\n",
    "if end_date < FXA_PAID_BEGIN_DATE: \n",
    "    category_queryset = Category.objects.exclude(name='FxA-Paid')\n",
    "else:\n",
    "    category_queryset = Category.objects.all()\n",
    "\n",
    "date_filter = Q(snippets__jobs__dailyjobmetrics__date__gte=begin_date,\n",
    "                snippets__jobs__dailyjobmetrics__date__lte=end_date)\n",
    "\n",
    "categories = read_frame(\n",
    "    category_queryset.annotate(\n",
    "        clicks=Sum('snippets__jobs__dailyjobmetrics__clicks', filter=date_filter),\n",
    "        blocks=Sum('snippets__jobs__dailyjobmetrics__blocks', filter=date_filter),\n",
    "        impressions=Sum('snippets__jobs__dailyjobmetrics__impressions', filter=date_filter)))\n",
    "\n",
    "add_click_block_rate(categories)\n",
    "columns = ['name', 'impressions', 'clicks', 'click rate', 'blocks', 'block rate']\n",
    "categories[columns].style.format(format_dict).hide_index()"
   ]
  },
  {
   "cell_type": "markdown",
   "metadata": {
    "ein.tags": "worksheet-0",
    "slideshow": {
     "slide_type": "-"
    }
   },
   "source": [
    "## Channels"
   ]
  },
  {
   "cell_type": "code",
   "execution_count": null,
   "metadata": {
    "autoscroll": false,
    "ein.hycell": false,
    "ein.tags": "worksheet-0",
    "slideshow": {
     "slide_type": "-"
    }
   },
   "outputs": [],
   "source": [
    "channels = read_frame(\n",
    "    DailyChannelMetrics.objects.filter(\n",
    "        date__gte=begin_date, date__lte=end_date)).groupby('channel').sum()\n",
    "add_click_block_rate(channels)\n",
    "\n",
    "columns.remove('name')\n",
    "channels.sort_values('impressions', ascending=False)[columns].style.format(format_dict)"
   ]
  },
  {
   "cell_type": "markdown",
   "metadata": {
    "ein.tags": "worksheet-0",
    "slideshow": {
     "slide_type": "-"
    }
   },
   "source": [
    "## Countries"
   ]
  },
  {
   "cell_type": "code",
   "execution_count": null,
   "metadata": {
    "autoscroll": false,
    "ein.hycell": false,
    "ein.tags": "worksheet-0",
    "slideshow": {
     "slide_type": "-"
    }
   },
   "outputs": [],
   "source": [
    "countries = read_frame(\n",
    "    DailyCountryMetrics.objects.filter(\n",
    "        date__gte=begin_date, date__lte=end_date)).groupby('country').sum()\n",
    "add_click_block_rate(countries)\n",
    "countries.nlargest(10, 'impressions')[columns].style.format(format_dict)"
   ]
  },
  {
   "cell_type": "markdown",
   "metadata": {
    "ein.tags": "worksheet-0",
    "slideshow": {
     "slide_type": "-"
    }
   },
   "source": [
    "## F100"
   ]
  },
  {
   "cell_type": "code",
   "execution_count": null,
   "metadata": {
    "autoscroll": false,
    "ein.hycell": false,
    "ein.tags": "worksheet-0",
    "slideshow": {
     "slide_type": "-"
    }
   },
   "outputs": [],
   "source": [
    "def name_performance(name):\n",
    "    df = read_frame(\n",
    "        DailyJobMetrics.objects.filter(\n",
    "            job__snippet__name__icontains=name,\n",
    "            date__lte=end_date,\n",
    "            date__gte=begin_date)).sum()\n",
    "    add_click_block_rate(df)\n",
    "    return df[columns].to_frame().transpose().style.format(format_dict).hide_index()\n",
    "\n",
    "name_performance('f100')"
   ]
  },
  {
   "cell_type": "markdown",
   "metadata": {
    "ein.tags": "worksheet-0",
    "slideshow": {
     "slide_type": "-"
    }
   },
   "source": [
    "## P100"
   ]
  },
  {
   "cell_type": "code",
   "execution_count": null,
   "metadata": {
    "autoscroll": false,
    "ein.hycell": false,
    "ein.tags": "worksheet-0",
    "slideshow": {
     "slide_type": "-"
    }
   },
   "outputs": [],
   "source": [
    "name_performance('p100')"
   ]
  }
 ],
 "metadata": {
  "kernelspec": {
   "display_name": "Django Shell-Plus",
   "language": "python",
   "name": "django_extensions"
  },
  "language_info": {
   "codemirror_mode": {
    "name": "ipython",
    "version": 3
   },
   "file_extension": ".py",
   "mimetype": "text/x-python",
   "name": "python",
   "nbconvert_exporter": "python",
   "pygments_lexer": "ipython3",
   "version": "3.7.6"
  },
  "name": "monthly-performance.ipynb"
 },
 "nbformat": 4,
 "nbformat_minor": 2
}
