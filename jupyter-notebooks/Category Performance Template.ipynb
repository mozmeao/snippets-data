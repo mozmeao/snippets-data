{
 "cells": [
  {
   "cell_type": "code",
   "execution_count": null,
   "metadata": {},
   "outputs": [],
   "source": [
    "import os\n",
    "os.environ.setdefault(\"DJANGO_SETTINGS_MODULE\", \"snippets.settings\")\n",
    "import django\n",
    "django.setup()\n",
    "from snippets.base.models import *\n",
    "from django_pandas.io import read_frame"
   ]
  },
  {
   "cell_type": "code",
   "execution_count": null,
   "metadata": {
    "scrolled": true
   },
   "outputs": [],
   "source": [
    "categories = read_frame(\n",
    "    Category.objects.annotate(\n",
    "        clicks=Sum('snippets__jobs__dailyjobmetrics__clicks'),\n",
    "        blocks=Sum('snippets__jobs__dailyjobmetrics__blocks'),\n",
    "        impressions=Sum('snippets__jobs__dailyjobmetrics__impressions')))\n",
    "categories['click rate'] = 100. * categories['clicks'] / categories['impressions']\n",
    "categories['block rate'] = 100. * categories['blocks'] / categories['impressions']\n",
    "format_dict = {'blocks': '{:,.0f}', 'clicks': '{:,.0f}', 'impressions': '{:,.0f}', \n",
    "   'click rate': \"{:,.2f}%\", 'block rate': \"{:,.2f}%\"}\n",
    "categories.drop(['id','created', 'modified', 'creator'], axis=1).style.format(format_dict).background_gradient(\n",
    "  subset=['click rate'], cmap='BuGn').background_gradient(\n",
    "  subset=['block rate'], cmap='RdGy')"
   ]
  },
  {
   "cell_type": "markdown",
   "metadata": {},
   "source": [
    "# TODO\n",
    "- [ ] eliminate first column of epoch dates\n",
    "- [ ] filter by date based on env vars"
   ]
  },
  {
   "cell_type": "code",
   "execution_count": null,
   "metadata": {},
   "outputs": [],
   "source": [
    "categories.columns"
   ]
  },
  {
   "cell_type": "code",
   "execution_count": null,
   "metadata": {},
   "outputs": [],
   "source": []
  }
 ],
 "metadata": {
  "kernelspec": {
   "display_name": "Python 3",
   "language": "python",
   "name": "python3"
  },
  "language_info": {
   "codemirror_mode": {
    "name": "ipython",
    "version": 3
   },
   "file_extension": ".py",
   "mimetype": "text/x-python",
   "name": "python",
   "nbconvert_exporter": "python",
   "pygments_lexer": "ipython3",
   "version": "3.7.5"
  }
 },
 "nbformat": 4,
 "nbformat_minor": 2
}
